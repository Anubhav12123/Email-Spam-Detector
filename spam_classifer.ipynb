{
 "cells": [
  {
   "cell_type": "code",
   "execution_count": 13,
   "id": "0708d835-55a7-49d6-a22d-d7f8d629556a",
   "metadata": {},
   "outputs": [],
   "source": [
    "import os, re, string\n",
    "import numpy as np\n",
    "import pandas as pd\n",
    "import matplotlib.pyplot as plt\n",
    "\n",
    "from sklearn.model_selection import train_test_split, StratifiedKFold, cross_validate, RandomizedSearchCV\n",
    "from sklearn.metrics import accuracy_score, precision_score, recall_score, f1_score, confusion_matrix, classification_report\n",
    "from sklearn.pipeline import Pipeline, FeatureUnion\n",
    "from sklearn.feature_extraction.text import TfidfVectorizer\n",
    "from sklearn.naive_bayes import MultinomialNB\n",
    "from sklearn.linear_model import LogisticRegression, SGDClassifier, PassiveAggressiveClassifier\n",
    "from sklearn.svm import LinearSVC\n",
    "from sklearn.ensemble import RandomForestClassifier\n",
    "from sklearn.preprocessing import FunctionTransformer, LabelEncoder\n",
    "import joblib\n",
    "\n",
    "pd.set_option(\"display.max_rows\", 200)\n",
    "pd.set_option(\"display.max_colwidth\", 200)"
   ]
  },
  {
   "cell_type": "code",
   "execution_count": 17,
   "id": "d6cf8be7-3d9b-4521-bcbf-454010afacf9",
   "metadata": {},
   "outputs": [
    {
     "data": {
      "text/html": [
       "<div>\n",
       "<style scoped>\n",
       "    .dataframe tbody tr th:only-of-type {\n",
       "        vertical-align: middle;\n",
       "    }\n",
       "\n",
       "    .dataframe tbody tr th {\n",
       "        vertical-align: top;\n",
       "    }\n",
       "\n",
       "    .dataframe thead th {\n",
       "        text-align: right;\n",
       "    }\n",
       "</style>\n",
       "<table border=\"1\" class=\"dataframe\">\n",
       "  <thead>\n",
       "    <tr style=\"text-align: right;\">\n",
       "      <th></th>\n",
       "      <th>label</th>\n",
       "      <th>text</th>\n",
       "    </tr>\n",
       "  </thead>\n",
       "  <tbody>\n",
       "    <tr>\n",
       "      <th>0</th>\n",
       "      <td>ham</td>\n",
       "      <td>Subject: enron methanol ; meter # : 988291\\r\\nthis is a follow up to the note i gave you on monday , 4 / 3 / 00 { preliminary\\r\\nflow data provided by daren } .\\r\\nplease override pop ' s daily vo...</td>\n",
       "    </tr>\n",
       "    <tr>\n",
       "      <th>1</th>\n",
       "      <td>ham</td>\n",
       "      <td>Subject: hpl nom for january 9 , 2001\\r\\n( see attached file : hplnol 09 . xls )\\r\\n- hplnol 09 . xls</td>\n",
       "    </tr>\n",
       "    <tr>\n",
       "      <th>2</th>\n",
       "      <td>ham</td>\n",
       "      <td>Subject: neon retreat\\r\\nho ho ho , we ' re around to that most wonderful time of the year - - - neon leaders retreat time !\\r\\ni know that this time of year is extremely hectic , and that it ' s ...</td>\n",
       "    </tr>\n",
       "    <tr>\n",
       "      <th>3</th>\n",
       "      <td>spam</td>\n",
       "      <td>Subject: photoshop , windows , office . cheap . main trending\\r\\nabasements darer prudently fortuitous undergone\\r\\nlighthearted charm orinoco taster\\r\\nrailroad affluent pornographic cuvier\\r\\nir...</td>\n",
       "    </tr>\n",
       "    <tr>\n",
       "      <th>4</th>\n",
       "      <td>ham</td>\n",
       "      <td>Subject: re : indian springs\\r\\nthis deal is to book the teco pvr revenue . it is my understanding that teco\\r\\njust sends us a check , i haven ' t received an answer as to whether there is a\\r\\np...</td>\n",
       "    </tr>\n",
       "    <tr>\n",
       "      <th>5</th>\n",
       "      <td>ham</td>\n",
       "      <td>Subject: ehronline web address change\\r\\nthis message is intended for ehronline users only .\\r\\ndue to a recent change to ehronline , the url ( aka \" web address \" ) for accessing ehronline needs ...</td>\n",
       "    </tr>\n",
       "    <tr>\n",
       "      <th>6</th>\n",
       "      <td>ham</td>\n",
       "      <td>Subject: spring savings certificate - take 30 % off\\r\\nsave 30 % when you use our customer appreciation spring savings\\r\\ncertificate at foot locker , lady foot locker , kids foot locker and at\\r\\...</td>\n",
       "    </tr>\n",
       "    <tr>\n",
       "      <th>7</th>\n",
       "      <td>spam</td>\n",
       "      <td>Subject: looking for medication ? we ` re the best source .\\r\\nit is difficult to make our material condition better by the best law , but it is easy enough to ruin it by bad laws .\\r\\nexcuse me ....</td>\n",
       "    </tr>\n",
       "    <tr>\n",
       "      <th>8</th>\n",
       "      <td>ham</td>\n",
       "      <td>Subject: noms / actual flow for 2 / 26\\r\\nwe agree\\r\\n- - - - - - - - - - - - - - - - - - - - - - forwarded by melissa jones / texas utilities on\\r\\n02 / 27 / 2001\\r\\n10 : 33 am - - - - - - - - - ...</td>\n",
       "    </tr>\n",
       "    <tr>\n",
       "      <th>9</th>\n",
       "      <td>ham</td>\n",
       "      <td>Subject: nominations for oct . 21 - 23 , 2000\\r\\n( see attached file : hplnl 021 . xls )\\r\\n- hplnl 021 . xls</td>\n",
       "    </tr>\n",
       "  </tbody>\n",
       "</table>\n",
       "</div>"
      ],
      "text/plain": [
       "  label  \\\n",
       "0   ham   \n",
       "1   ham   \n",
       "2   ham   \n",
       "3  spam   \n",
       "4   ham   \n",
       "5   ham   \n",
       "6   ham   \n",
       "7  spam   \n",
       "8   ham   \n",
       "9   ham   \n",
       "\n",
       "                                                                                                                                                                                                      text  \n",
       "0  Subject: enron methanol ; meter # : 988291\\r\\nthis is a follow up to the note i gave you on monday , 4 / 3 / 00 { preliminary\\r\\nflow data provided by daren } .\\r\\nplease override pop ' s daily vo...  \n",
       "1                                                                                                    Subject: hpl nom for january 9 , 2001\\r\\n( see attached file : hplnol 09 . xls )\\r\\n- hplnol 09 . xls  \n",
       "2  Subject: neon retreat\\r\\nho ho ho , we ' re around to that most wonderful time of the year - - - neon leaders retreat time !\\r\\ni know that this time of year is extremely hectic , and that it ' s ...  \n",
       "3  Subject: photoshop , windows , office . cheap . main trending\\r\\nabasements darer prudently fortuitous undergone\\r\\nlighthearted charm orinoco taster\\r\\nrailroad affluent pornographic cuvier\\r\\nir...  \n",
       "4  Subject: re : indian springs\\r\\nthis deal is to book the teco pvr revenue . it is my understanding that teco\\r\\njust sends us a check , i haven ' t received an answer as to whether there is a\\r\\np...  \n",
       "5  Subject: ehronline web address change\\r\\nthis message is intended for ehronline users only .\\r\\ndue to a recent change to ehronline , the url ( aka \" web address \" ) for accessing ehronline needs ...  \n",
       "6  Subject: spring savings certificate - take 30 % off\\r\\nsave 30 % when you use our customer appreciation spring savings\\r\\ncertificate at foot locker , lady foot locker , kids foot locker and at\\r\\...  \n",
       "7  Subject: looking for medication ? we ` re the best source .\\r\\nit is difficult to make our material condition better by the best law , but it is easy enough to ruin it by bad laws .\\r\\nexcuse me ....  \n",
       "8  Subject: noms / actual flow for 2 / 26\\r\\nwe agree\\r\\n- - - - - - - - - - - - - - - - - - - - - - forwarded by melissa jones / texas utilities on\\r\\n02 / 27 / 2001\\r\\n10 : 33 am - - - - - - - - - ...  \n",
       "9                                                                                            Subject: nominations for oct . 21 - 23 , 2000\\r\\n( see attached file : hplnl 021 . xls )\\r\\n- hplnl 021 . xls  "
      ]
     },
     "execution_count": 17,
     "metadata": {},
     "output_type": "execute_result"
    }
   ],
   "source": [
    "path = \"spam_ham_dataset.csv\"  \n",
    "\n",
    "df = pd.read_csv(path, encoding=\"utf-8\", engine=\"python\", on_bad_lines=\"skip\")\n",
    "\n",
    "if {\"label\",\"text\"}.issubset(set(df.columns)):\n",
    "    df = df[[\"label\",\"text\"]]\n",
    "else:\n",
    "    df = df.rename(columns={df.columns[0]:\"label\", df.columns[-1]:\"text\"})[[\"label\",\"text\"]]\n",
    "\n",
    "df = df.dropna(subset=[\"label\",\"text\"]).copy()\n",
    "df[\"label\"] = df[\"label\"].astype(str).str.strip().str.lower().replace({\"1\":\"spam\",\"0\":\"ham\"})\n",
    "df[\"text\"] = df[\"text\"].astype(str)\n",
    "\n",
    "le = LabelEncoder()\n",
    "y = le.fit_transform(df[\"label\"])\n",
    "X = df[\"text\"]\n",
    "\n",
    "df.head(10)"
   ]
  },
  {
   "cell_type": "code",
   "execution_count": 16,
   "id": "6bf73bd5-73ba-4bd3-a453-4df6c750e349",
   "metadata": {},
   "outputs": [
    {
     "data": {
      "image/png": "[encoded data removed]",
      "text/plain": [
       "<Figure size 640x480 with 1 Axes>"
      ]
     },
     "metadata": {},
     "output_type": "display_data"
    },
    {
     "data": {
      "image/png": "[encoded data removed]",
      "text/plain": [
       "<Figure size 640x480 with 1 Axes>"
      ]
     },
     "metadata": {},
     "output_type": "display_data"
    }
   ],
   "source": [
    "df[\"label\"].value_counts().plot(kind=\"bar\", title=\"Class Balance\")\n",
    "plt.xlabel(\"label\"); plt.ylabel(\"count\"); plt.show()\n",
    "\n",
    "X.str.len().hist(bins=40)\n",
    "plt.title(\"Message Length Distribution\"); plt.xlabel(\"length\"); plt.ylabel(\"freq\"); plt.show()"
   ]
  },
  {
   "cell_type": "code",
   "execution_count": 18,
   "id": "069e18a2-6787-4551-aec5-9bd205a58231",
   "metadata": {},
   "outputs": [],
   "source": [
    "def basic_clean(series):\n",
    "    s = series.str.lower()\n",
    "    s = s.str.replace(r\"http\\S+|www\\S+\",\" \", regex=True)\n",
    "    s = s.str.replace(r\"\\d+\",\" \", regex=True)\n",
    "    s = s.str.replace(f\"[{re.escape(string.punctuation)}]\", \" \", regex=True)\n",
    "    s = s.str.replace(r\"\\s+\",\" \", regex=True).str.strip()\n",
    "    return s\n",
    "\n",
    "cleaner = FunctionTransformer(basic_clean)\n",
    "word_tfidf = TfidfVectorizer(ngram_range=(1,2), min_df=2, max_df=0.95)\n",
    "char_tfidf = TfidfVectorizer(analyzer=\"char\", ngram_range=(3,5), min_df=2, max_df=0.95)\n",
    "features = FeatureUnion([(\"word_tfidf\", word_tfidf), (\"char_tfidf\", char_tfidf)])"
   ]
  },
  {
   "cell_type": "code",
   "execution_count": 19,
   "id": "15b5ce05-debe-4b2b-b596-9e2587e23085",
   "metadata": {},
   "outputs": [
    {
     "data": {
      "text/plain": [
       "(6,\n",
       " ['MultinomialNB',\n",
       "  'LogisticRegression',\n",
       "  'LinearSVC',\n",
       "  'SGDClassifier',\n",
       "  'PassiveAggressive',\n",
       "  'RandomForest'])"
      ]
     },
     "execution_count": 19,
     "metadata": {},
     "output_type": "execute_result"
    }
   ],
   "source": [
    "models = {\n",
    "    \"MultinomialNB\": MultinomialNB(),\n",
    "    \"LogisticRegression\": LogisticRegression(max_iter=2000),\n",
    "    \"LinearSVC\": LinearSVC(),\n",
    "    \"SGDClassifier\": SGDClassifier(loss=\"log_loss\", max_iter=2000),\n",
    "    \"PassiveAggressive\": PassiveAggressiveClassifier(max_iter=2000),\n",
    "    \"RandomForest\": RandomForestClassifier(n_estimators=300, random_state=42)\n",
    "}\n",
    "len(models), list(models.keys())\n"
   ]
  },
  {
   "cell_type": "code",
   "execution_count": 20,
   "id": "b52ecdf8-3bff-4896-a397-b1dc666863b6",
   "metadata": {},
   "outputs": [
    {
     "data": {
      "text/plain": [
       "(4136, 1035)"
      ]
     },
     "execution_count": 20,
     "metadata": {},
     "output_type": "execute_result"
    }
   ],
   "source": [
    "X_train, X_val, y_train, y_val = train_test_split(\n",
    "    X, y, test_size=0.2, stratify=y, random_state=42\n",
    ")\n",
    "len(X_train), len(X_val)"
   ]
  },
  {
   "cell_type": "code",
   "execution_count": 21,
   "id": "e0c5e7f6-3c45-413e-b95d-52440b1821d3",
   "metadata": {},
   "outputs": [
    {
     "data": {
      "text/html": [
       "<div>\n",
       "<style scoped>\n",
       "    .dataframe tbody tr th:only-of-type {\n",
       "        vertical-align: middle;\n",
       "    }\n",
       "\n",
       "    .dataframe tbody tr th {\n",
       "        vertical-align: top;\n",
       "    }\n",
       "\n",
       "    .dataframe thead th {\n",
       "        text-align: right;\n",
       "    }\n",
       "</style>\n",
       "<table border=\"1\" class=\"dataframe\">\n",
       "  <thead>\n",
       "    <tr style=\"text-align: right;\">\n",
       "      <th></th>\n",
       "      <th>model</th>\n",
       "      <th>acc_mean</th>\n",
       "      <th>prec_mean</th>\n",
       "      <th>rec_mean</th>\n",
       "      <th>f1_mean</th>\n",
       "    </tr>\n",
       "  </thead>\n",
       "  <tbody>\n",
       "    <tr>\n",
       "      <th>0</th>\n",
       "      <td>PassiveAggressive</td>\n",
       "      <td>0.988877</td>\n",
       "      <td>0.974662</td>\n",
       "      <td>0.987493</td>\n",
       "      <td>0.980970</td>\n",
       "    </tr>\n",
       "    <tr>\n",
       "      <th>1</th>\n",
       "      <td>LinearSVC</td>\n",
       "      <td>0.988151</td>\n",
       "      <td>0.969247</td>\n",
       "      <td>0.990826</td>\n",
       "      <td>0.979855</td>\n",
       "    </tr>\n",
       "    <tr>\n",
       "      <th>2</th>\n",
       "      <td>LogisticRegression</td>\n",
       "      <td>0.986943</td>\n",
       "      <td>0.971369</td>\n",
       "      <td>0.984160</td>\n",
       "      <td>0.977661</td>\n",
       "    </tr>\n",
       "    <tr>\n",
       "      <th>3</th>\n",
       "      <td>SGDClassifier</td>\n",
       "      <td>0.986701</td>\n",
       "      <td>0.968299</td>\n",
       "      <td>0.986663</td>\n",
       "      <td>0.977315</td>\n",
       "    </tr>\n",
       "    <tr>\n",
       "      <th>4</th>\n",
       "      <td>RandomForest</td>\n",
       "      <td>0.977515</td>\n",
       "      <td>0.950507</td>\n",
       "      <td>0.973330</td>\n",
       "      <td>0.961686</td>\n",
       "    </tr>\n",
       "    <tr>\n",
       "      <th>5</th>\n",
       "      <td>MultinomialNB</td>\n",
       "      <td>0.883705</td>\n",
       "      <td>0.995866</td>\n",
       "      <td>0.601315</td>\n",
       "      <td>0.749251</td>\n",
       "    </tr>\n",
       "  </tbody>\n",
       "</table>\n",
       "</div>"
      ],
      "text/plain": [
       "                model  acc_mean  prec_mean  rec_mean   f1_mean\n",
       "0   PassiveAggressive  0.988877   0.974662  0.987493  0.980970\n",
       "1           LinearSVC  0.988151   0.969247  0.990826  0.979855\n",
       "2  LogisticRegression  0.986943   0.971369  0.984160  0.977661\n",
       "3       SGDClassifier  0.986701   0.968299  0.986663  0.977315\n",
       "4        RandomForest  0.977515   0.950507  0.973330  0.961686\n",
       "5       MultinomialNB  0.883705   0.995866  0.601315  0.749251"
      ]
     },
     "execution_count": 21,
     "metadata": {},
     "output_type": "execute_result"
    }
   ],
   "source": [
    "cv = StratifiedKFold(n_splits=5, shuffle=True, random_state=42)\n",
    "scoring = {\"acc\":\"accuracy\",\"prec\":\"precision\",\"rec\":\"recall\",\"f1\":\"f1\"}\n",
    "\n",
    "rows = []\n",
    "for name, clf in models.items():\n",
    "    pipe = Pipeline([(\"clean\", cleaner), (\"feat\", features), (\"clf\", clf)])\n",
    "    scores = cross_validate(pipe, X_train, y_train, cv=cv, scoring=scoring, n_jobs=-1)\n",
    "    rows.append({\n",
    "        \"model\": name,\n",
    "        \"acc_mean\": scores[\"test_acc\"].mean(),\n",
    "        \"prec_mean\": scores[\"test_prec\"].mean(),\n",
    "        \"rec_mean\": scores[\"test_rec\"].mean(),\n",
    "        \"f1_mean\": scores[\"test_f1\"].mean()\n",
    "    })\n",
    "\n",
    "cv_df = pd.DataFrame(rows).sort_values(\"f1_mean\", ascending=False).reset_index(drop=True)\n",
    "cv_df"
   ]
  },
  {
   "cell_type": "code",
   "execution_count": 22,
   "id": "a8bce063-2355-41df-899c-9b9ce837e3bf",
   "metadata": {},
   "outputs": [
    {
     "name": "stdout",
     "output_type": "stream",
     "text": [
      "Best model: PassiveAggressive\n",
      "Accuracy: 0.9865\n",
      "Precision: 0.9831\n",
      "Recall: 0.97\n",
      "F1: 0.9765\n",
      "\n",
      "              precision    recall  f1-score   support\n",
      "\n",
      "         ham       0.99      0.99      0.99       735\n",
      "        spam       0.98      0.97      0.98       300\n",
      "\n",
      "    accuracy                           0.99      1035\n",
      "   macro avg       0.99      0.98      0.98      1035\n",
      "weighted avg       0.99      0.99      0.99      1035\n",
      "\n"
     ]
    },
    {
     "data": {
      "text/html": [
       "<div>\n",
       "<style scoped>\n",
       "    .dataframe tbody tr th:only-of-type {\n",
       "        vertical-align: middle;\n",
       "    }\n",
       "\n",
       "    .dataframe tbody tr th {\n",
       "        vertical-align: top;\n",
       "    }\n",
       "\n",
       "    .dataframe thead th {\n",
       "        text-align: right;\n",
       "    }\n",
       "</style>\n",
       "<table border=\"1\" class=\"dataframe\">\n",
       "  <thead>\n",
       "    <tr style=\"text-align: right;\">\n",
       "      <th></th>\n",
       "      <th>ham</th>\n",
       "      <th>spam</th>\n",
       "    </tr>\n",
       "  </thead>\n",
       "  <tbody>\n",
       "    <tr>\n",
       "      <th>ham</th>\n",
       "      <td>730</td>\n",
       "      <td>5</td>\n",
       "    </tr>\n",
       "    <tr>\n",
       "      <th>spam</th>\n",
       "      <td>9</td>\n",
       "      <td>291</td>\n",
       "    </tr>\n",
       "  </tbody>\n",
       "</table>\n",
       "</div>"
      ],
      "text/plain": [
       "      ham  spam\n",
       "ham   730     5\n",
       "spam    9   291"
      ]
     },
     "execution_count": 22,
     "metadata": {},
     "output_type": "execute_result"
    }
   ],
   "source": [
    "best_name = cv_df.iloc[0][\"model\"]\n",
    "best_clf = models[best_name]\n",
    "\n",
    "pipe = Pipeline([(\"clean\", cleaner), (\"feat\", features), (\"clf\", best_clf)])\n",
    "pipe.fit(X_train, y_train)\n",
    "pred = pipe.predict(X_val)\n",
    "\n",
    "acc = accuracy_score(y_val, pred)\n",
    "prec = precision_score(y_val, pred)\n",
    "rec = recall_score(y_val, pred)\n",
    "f1 = f1_score(y_val, pred)\n",
    "cm = confusion_matrix(y_val, pred)\n",
    "\n",
    "print(\"Best model:\", best_name)\n",
    "print(\"Accuracy:\", round(acc,4))\n",
    "print(\"Precision:\", round(prec,4))\n",
    "print(\"Recall:\", round(rec,4))\n",
    "print(\"F1:\", round(f1,4))\n",
    "print()\n",
    "print(classification_report(y_val, pred, target_names=list(le.classes_)))\n",
    "\n",
    "pd.DataFrame(cm, index=le.classes_, columns=le.classes_)"
   ]
  },
  {
   "cell_type": "code",
   "execution_count": 26,
   "id": "e8e2ae63-b69d-46ed-a79a-c443e258bf5d",
   "metadata": {},
   "outputs": [
    {
     "name": "stdout",
     "output_type": "stream",
     "text": [
      "Tuned Accuracy: 0.9903\n",
      "Tuned Precision: 0.9833\n",
      "Tuned Recall: 0.9833\n",
      "Tuned F1: 0.9833\n"
     ]
    }
   ],
   "source": [
    "param_distributions = {}\n",
    "\n",
    "if best_name == \"LogisticRegression\":\n",
    "    param_distributions = {\"clf__C\": np.logspace(-3, 2, 20), \"clf__penalty\": [\"l2\"], \"clf__solver\": [\"lbfgs\"]}\n",
    "elif best_name == \"LinearSVC\":\n",
    "    param_distributions = {\"clf__C\": np.logspace(-3, 2, 20)}\n",
    "elif best_name == \"MultinomialNB\":\n",
    "    param_distributions = {\"clf__alpha\": np.linspace(0.05, 2.0, 30)}\n",
    "elif best_name == \"SGDClassifier\":\n",
    "    param_distributions = {\"clf__alpha\": np.logspace(-6, -2, 20), \"clf__loss\": [\"log_loss\",\"hinge\"]}\n",
    "elif best_name == \"PassiveAggressive\":\n",
    "    param_distributions = {\"clf__C\": np.logspace(-3, 1, 12), \"clf__loss\": [\"hinge\",\"squared_hinge\"]}\n",
    "elif best_name == \"RandomForest\":\n",
    "    param_distributions = {\"clf__n_estimators\": [200,300,400,600], \"clf__max_depth\": [None,10,20,30]}\n",
    "\n",
    "if len(param_distributions) > 0:\n",
    "    base_pipe = Pipeline([(\"clean\", cleaner), (\"feat\", features), (\"clf\", best_clf)])\n",
    "    tuner = RandomizedSearchCV(\n",
    "        base_pipe,\n",
    "        param_distributions=param_distributions,\n",
    "        n_iter=15,\n",
    "        cv=StratifiedKFold(n_splits=5, shuffle=True, random_state=42),\n",
    "        scoring=\"f1\",\n",
    "        n_jobs=-1,\n",
    "        random_state=42\n",
    "    )\n",
    "    tuner.fit(X_train, y_train)\n",
    "    tuned_pipe = tuner.best_estimator_\n",
    "else:\n",
    "    tuned_pipe = pipe\n",
    "\n",
    "tuned_pred = tuned_pipe.predict(X_val)\n",
    "print(\"Tuned Accuracy:\", round(accuracy_score(y_val, tuned_pred),4))\n",
    "print(\"Tuned Precision:\", round(precision_score(y_val, tuned_pred),4))\n",
    "print(\"Tuned Recall:\", round(recall_score(y_val, tuned_pred),4))\n",
    "print(\"Tuned F1:\", round(f1_score(y_val, tuned_pred),4))"
   ]
  },
  {
   "cell_type": "code",
   "execution_count": 27,
   "id": "0cffc16f-d8dd-46ed-b40f-b66d01d86923",
   "metadata": {},
   "outputs": [
    {
     "data": {
      "text/plain": [
       "'Saved to spam_classifier_model.joblib'"
      ]
     },
     "execution_count": 27,
     "metadata": {},
     "output_type": "execute_result"
    }
   ],
   "source": [
    "joblib.dump({\"pipeline\": tuned_pipe, \"label_encoder\": le}, \"spam_classifier_model.joblib\")\n",
    "\"Saved to spam_classifier_model.joblib\""
   ]
  }
 ],
 "metadata": {
  "kernelspec": {
   "display_name": "Python 3 (ipykernel)",
   "language": "python",
   "name": "python3"
  },
  "language_info": {
   "codemirror_mode": {
    "name": "ipython",
    "version": 3
   },
   "file_extension": ".py",
   "mimetype": "text/x-python",
   "name": "python",
   "nbconvert_exporter": "python",
   "pygments_lexer": "ipython3",
   "version": "3.13.5"
  }
 },
 "nbformat": 4,
 "nbformat_minor": 5
}
